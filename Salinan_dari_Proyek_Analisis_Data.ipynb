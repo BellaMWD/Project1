{
  "cells": [
    {
      "cell_type": "markdown",
      "metadata": {
        "id": "H9wADwK78DCz"
      },
      "source": [
        "# Proyek Analisis Data: Bike-sharing-dataset\n",
        "- **Nama:** Bella Melati Wiranur Dwifani\n",
        "- **Email:** bellamelati21@if.unjani.ac.id\n",
        "- **ID Dicoding:** JLX12JYJ6Z72"
      ]
    },
    {
      "cell_type": "markdown",
      "metadata": {
        "id": "eE0raob58DC0"
      },
      "source": [
        "## Menentukan Pertanyaan Bisnis"
      ]
    },
    {
      "cell_type": "markdown",
      "metadata": {
        "id": "GmQeQ5YF8DC0"
      },
      "source": [
        "- Bagaimana pola dari penggunaan bike-sharing-dataset bisa dipengaruhi oleh kondisi cuaca, contohnya seperti suhu dan kelembapan? Akankah ada perbedaan secara signifikan antara pengguna terdaftar dan pengguna yang bukan terdaftar dalam pola penggunaan pada hari kerja dan diluar hari kerja?\n",
        "- Bagaimana korelasi antara suhu dan jumlah perjalanan pada hari kerja dan diluar hari kerja? Apakah terdapat sebuah trend tertentu yang nantinya dapat diidentifikasi berdasarkan variabel cuaca dan hari kerja?"
      ]
    },
    {
      "cell_type": "markdown",
      "metadata": {
        "id": "H-z4QGlO8DC1"
      },
      "source": [
        "## Import Semua Packages/Library yang Digunakan"
      ]
    },
    {
      "cell_type": "code",
      "source": [
        "#pip install streamlit"
      ],
      "metadata": {
        "id": "a0oLPb290mPA"
      },
      "execution_count": null,
      "outputs": []
    },
    {
      "cell_type": "code",
      "execution_count": 56,
      "metadata": {
        "id": "FVYwaObI8DC1"
      },
      "outputs": [],
      "source": [
        "import pandas as pd\n",
        "import numpy as np\n",
        "import seaborn as sns\n",
        "import matplotlib.pyplot as plt\n",
        "import streamlit as st\n",
        "import os"
      ]
    },
    {
      "cell_type": "markdown",
      "metadata": {
        "id": "h_Sh51Xy8DC1"
      },
      "source": [
        "## Data Wrangling"
      ]
    },
    {
      "cell_type": "markdown",
      "metadata": {
        "id": "sXU2GBYu8DC1"
      },
      "source": [
        "### Gathering Data"
      ]
    },
    {
      "cell_type": "code",
      "execution_count": 58,
      "metadata": {
        "id": "zjCBk1BI8DC1",
        "colab": {
          "base_uri": "https://localhost:8080/"
        },
        "outputId": "db57a96c-cbdf-45ca-9042-8589a54a73cf"
      },
      "outputs": [
        {
          "output_type": "stream",
          "name": "stdout",
          "text": [
            "   instant      dteday  season  yr  mnth  holiday  weekday  workingday  \\\n",
            "0        1  2011-01-01       1   0     1        0        6           0   \n",
            "1        2  2011-01-02       1   0     1        0        0           0   \n",
            "2        3  2011-01-03       1   0     1        0        1           1   \n",
            "3        4  2011-01-04       1   0     1        0        2           1   \n",
            "4        5  2011-01-05       1   0     1        0        3           1   \n",
            "\n",
            "   weathersit      temp     atemp       hum  windspeed  casual  registered  \\\n",
            "0           2  0.344167  0.363625  0.805833   0.160446     331         654   \n",
            "1           2  0.363478  0.353739  0.696087   0.248539     131         670   \n",
            "2           1  0.196364  0.189405  0.437273   0.248309     120        1229   \n",
            "3           1  0.200000  0.212122  0.590435   0.160296     108        1454   \n",
            "4           1  0.226957  0.229270  0.436957   0.186900      82        1518   \n",
            "\n",
            "    cnt  \n",
            "0   985  \n",
            "1   801  \n",
            "2  1349  \n",
            "3  1562  \n",
            "4  1600  \n",
            "<class 'pandas.core.frame.DataFrame'>\n",
            "RangeIndex: 731 entries, 0 to 730\n",
            "Data columns (total 16 columns):\n",
            " #   Column      Non-Null Count  Dtype  \n",
            "---  ------      --------------  -----  \n",
            " 0   instant     731 non-null    int64  \n",
            " 1   dteday      731 non-null    object \n",
            " 2   season      731 non-null    int64  \n",
            " 3   yr          731 non-null    int64  \n",
            " 4   mnth        731 non-null    int64  \n",
            " 5   holiday     731 non-null    int64  \n",
            " 6   weekday     731 non-null    int64  \n",
            " 7   workingday  731 non-null    int64  \n",
            " 8   weathersit  731 non-null    int64  \n",
            " 9   temp        731 non-null    float64\n",
            " 10  atemp       731 non-null    float64\n",
            " 11  hum         731 non-null    float64\n",
            " 12  windspeed   731 non-null    float64\n",
            " 13  casual      731 non-null    int64  \n",
            " 14  registered  731 non-null    int64  \n",
            " 15  cnt         731 non-null    int64  \n",
            "dtypes: float64(4), int64(11), object(1)\n",
            "memory usage: 91.5+ KB\n",
            "None\n"
          ]
        }
      ],
      "source": [
        "current_directory = os.getcwd()\n",
        "os.chdir(current_directory)\n",
        "bike_data = pd.read_csv('day.csv')\n",
        "print(bike_data.head())\n",
        "print(bike_data.info()) #menampilkan informasi dari dataset\n",
        "bike_data = bike_data.dropna()\n",
        "bike_data['dteday'] = pd.to_datetime(bike_data['dteday']) #menampilkan tanggal"
      ]
    },
    {
      "cell_type": "markdown",
      "metadata": {
        "id": "FHSiqaZp8DC1"
      },
      "source": [
        "### Assessing Data"
      ]
    },
    {
      "cell_type": "code",
      "source": [
        "print(bike_data.describe())"
      ],
      "metadata": {
        "id": "ax-3tEjc9Cj1"
      },
      "execution_count": null,
      "outputs": []
    },
    {
      "cell_type": "markdown",
      "metadata": {
        "id": "EhN5R4hr8DC1"
      },
      "source": [
        "### Cleaning Data"
      ]
    },
    {
      "cell_type": "code",
      "source": [
        "null_counts = bike_data.isnull().sum()\n",
        "print(\"Jumlah Nilai Null pada Setiap Kolom : \")\n",
        "print(null_counts)\n",
        "bike_data = bike_data.dropna() #example untuk menghapus baris mengandung nilai null\n",
        "duplicate_counts = bike_data.duplicated().sum() #menangani duplikat\n",
        "print(\"Jumlah Duplikat dalam Dataset : \", duplicate_counts)\n",
        "bike_data = bike_data.drop_duplicates() #example untuk menghapus data\n",
        "print(\"Informasi Dataset setelah Pembersihan : \")\n",
        "print(bike_data.info())\n"
      ],
      "metadata": {
        "id": "jVnYpprE9Evz"
      },
      "execution_count": null,
      "outputs": []
    },
    {
      "cell_type": "markdown",
      "source": [],
      "metadata": {
        "id": "28FNJK31qiu5"
      }
    },
    {
      "cell_type": "markdown",
      "metadata": {
        "id": "gp-Y6wU38DC1"
      },
      "source": [
        "## Exploratory Data Analysis (EDA)"
      ]
    },
    {
      "cell_type": "markdown",
      "metadata": {
        "id": "MW7WF2kr8DC1"
      },
      "source": [
        "### Explore ..."
      ]
    },
    {
      "cell_type": "code",
      "execution_count": null,
      "metadata": {
        "id": "e9CQCZjk8DC2"
      },
      "outputs": [],
      "source": [
        "st.title('Exploratory Data Analysis (EDA) - Bike Sharing Dataset')\n",
        "st.subheader('Bike Sharing Dataset')\n",
        "st.write(bike_data.head())\n",
        "\n",
        "st.subheader('Distribusi Jumlah Perjalanan')\n",
        "fig_hist = plt.figure(figsize=(10, 6))\n",
        "sns.histplot(bike_data['cnt'], bins=30, kde=True)\n",
        "st.pyplot(fig_hist)\n",
        "\n",
        "#Variabel suhu dan cuaca\n",
        "st.subheader('Suhu berdasarkan Kondisi Cuaca')\n",
        "fig_boxplot = plt.figure(figsize=(12, 8))\n",
        "sns.boxplot(x='weathersit', y='temp', data=bike_data)\n",
        "st.pyplot(fig_boxplot)\n",
        "\n",
        "#Untuk Variabel Numerik\n",
        "st.subheader('Matriks Korelasi Variabel Numerik')\n",
        "correlation_matrix = bike_data[['temp', 'hum', 'windspeed', 'cnt']].corr()\n",
        "fig_heatmap = plt.figure(figsize=(10, 8))\n",
        "sns.heatmap(correlation_matrix, annot=True, cmap='coolwarm', fmt=\".2f\")\n",
        "st.pyplot(fig_heatmap)\n",
        "\n",
        "#Analisis natara hari kerja dan hari lebar\n",
        "st.subheader('Distribusi Jumlah Hari Kerja dan Hari Libur')\n",
        "fig_workingday = plt.figure(figsize=(10, 6))\n",
        "sns.countplot(x='workingday', data=bike_data)\n",
        "st.pyplot(fig_workingday)\n",
        "\n",
        "st.subheader('Perbandingan Jumlah Perjalanan pada Hari Kerja dan Hari Libur')\n",
        "fig_barplot = plt.figure(figsize=(12, 8))\n",
        "sns.barplot(x='workingday', y='cnt', data=bike_data, hue='registered')\n",
        "st.pyplot(fig_barplot)"
      ]
    },
    {
      "cell_type": "markdown",
      "metadata": {
        "id": "zsyZjqak8DC2"
      },
      "source": [
        "## Visualization & Explanatory Analysis"
      ]
    },
    {
      "cell_type": "markdown",
      "metadata": {
        "id": "HZxOiQ6n8DC2"
      },
      "source": [
        "### Pertanyaan 1: Scatter Plot Suhu & dan jumlah perjalanan.\n",
        "Membuat scatter plot ini gunanya untuk membandingkan suhu dengan jumlah perjalanan pada hari kerja. Seperti warna atau bentuk titik dapat digunakan untuk membedakan antara pengguna terdaftar dan pengguna yang belum terdaftar."
      ]
    },
    {
      "cell_type": "code",
      "execution_count": 51,
      "metadata": {
        "id": "1swJUdAD8DC2",
        "colab": {
          "base_uri": "https://localhost:8080/"
        },
        "outputId": "d4440560-ca33-4b76-e5b9-5faefa05646f"
      },
      "outputs": [
        {
          "output_type": "execute_result",
          "data": {
            "text/plain": [
              "DeltaGenerator()"
            ]
          },
          "metadata": {},
          "execution_count": 51
        }
      ],
      "source": [
        "st.subheader('Distribusi Jumlah Hari Kerja dan Hari Libur')\n",
        "fig_workingday = plt.figure(figsize=(10, 6))\n",
        "sns.countplot(x='workingday', data=bike_data)\n",
        "st.pyplot(fig_workingday)"
      ]
    },
    {
      "cell_type": "markdown",
      "metadata": {
        "id": "DgHI7CiU8DC2"
      },
      "source": [
        "### Pertanyaan 2: Grafik garis pola pengguna harian.\n",
        "Membuat grafik garis dari pola pengguna harian pada bike-sharing-datasheet di hari kerja dan di hari luar kerja. Grafik ini dapat mencakup dua garis terpisah untuk pengguna terdaftar dan pengguna yang belum terdaftar untuk menyoroti perbedaan yang cukup signifikan dalam pola perjalanan."
      ]
    },
    {
      "cell_type": "code",
      "execution_count": 52,
      "metadata": {
        "id": "Go0lCsvO8DC2",
        "colab": {
          "base_uri": "https://localhost:8080/"
        },
        "outputId": "b9b21ae6-be00-46a5-fc6c-e9c8f4dde045"
      },
      "outputs": [
        {
          "output_type": "execute_result",
          "data": {
            "text/plain": [
              "DeltaGenerator()"
            ]
          },
          "metadata": {},
          "execution_count": 52
        }
      ],
      "source": [
        "st.subheader('Perbandingan Jumlah Perjalanan pada Hari Kerja dan Hari Libur')\n",
        "fig_barplot = plt.figure(figsize=(12, 8))\n",
        "sns.barplot(x='workingday', y='cnt', data=bike_data, hue='registered')\n",
        "st.pyplot(fig_barplot)"
      ]
    },
    {
      "cell_type": "markdown",
      "metadata": {
        "id": "_WeHlCeX8DC2"
      },
      "source": [
        "## Conclusion"
      ]
    },
    {
      "cell_type": "markdown",
      "metadata": {
        "id": "ZTcyR48Y8DC2"
      },
      "source": [
        "- Pertanyaan 1 : Menunjukkan bahwa pada hari kerja pengguna terdaftar cenderung menyewa sepeda lebih banyak utama saat suhu tinggi. Di hari libur, pola ini bisa saja berbeda dan terlihat adanya perbedaan secara signifikan diantara pengguna terdaftar dan tidak terdaftar.\n",
        "- Pertanyaan 2 : Menunnjukkan bahwa pada hari kerja, terdapat korelasi positif antara suhu dan jumlah perjalanan, terutama untuk pengguna terdaftar saja. Namun, pada hari libur mungkin saja pola ini bisa berbeda dan memerlukan lebih banyak lagi eksplorasi untuk kedepannya."
      ]
    }
  ],
  "metadata": {
    "kernelspec": {
      "display_name": "Python 3",
      "language": "python",
      "name": "python3"
    },
    "language_info": {
      "name": "python",
      "version": "3.8.0 (tags/v3.8.0:fa919fd, Oct 14 2019, 19:21:23) [MSC v.1916 32 bit (Intel)]"
    },
    "orig_nbformat": 4,
    "vscode": {
      "interpreter": {
        "hash": "972b3bf27e332e87b5379f2791f6ef9dfc79c71018c370b0d7423235e20fe4d7"
      }
    },
    "colab": {
      "provenance": [],
      "collapsed_sections": [
        "eE0raob58DC0",
        "H-z4QGlO8DC1",
        "sXU2GBYu8DC1",
        "EhN5R4hr8DC1",
        "gp-Y6wU38DC1",
        "MW7WF2kr8DC1",
        "HZxOiQ6n8DC2",
        "DgHI7CiU8DC2",
        "_WeHlCeX8DC2"
      ]
    }
  },
  "nbformat": 4,
  "nbformat_minor": 0
}